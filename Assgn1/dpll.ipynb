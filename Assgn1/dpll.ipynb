{
  "nbformat": 4,
  "nbformat_minor": 0,
  "metadata": {
    "colab": {
      "name": "dpll.ipynb",
      "version": "0.3.2",
      "provenance": [],
      "collapsed_sections": []
    },
    "kernelspec": {
      "name": "python3",
      "display_name": "Python 3"
    }
  },
  "cells": [
    {
      "cell_type": "code",
      "metadata": {
        "id": "ENvu6hnDoASG",
        "colab_type": "code",
        "colab": {}
      },
      "source": [
        "def is_satisfiable(cnf_formula):\n",
        "  '''\n",
        "    This is the driver function for checking satisfiablity \n",
        "\n",
        "    Parameters:\n",
        "      cnf_formula - list of lists, formula in cnf form, E.g = [['p','!r'],['!p','r']]\n",
        "    Returns: \n",
        "      If the formula is satisfiable or not \n",
        "  '''\n",
        "\tclauses = cnf_formula\n",
        "\tsymbols = list(set([y for x in clauses for y in x]))\n",
        "\tmodel = {}\n",
        "\n",
        "\treturn dpll(clauses, symbols, model)"
      ],
      "execution_count": 0,
      "outputs": []
    },
    {
      "cell_type": "code",
      "metadata": {
        "id": "_0tynnNApKZr",
        "colab_type": "code",
        "colab": {}
      },
      "source": [
        "def model_test(clauses, model):\n",
        "  '''\n",
        "    Given a model this function removes the clauses which are satisfied. \n",
        "\n",
        "    Parameters:\n",
        "      clauses - list of lists\n",
        "      model - a dictionary \n",
        "    Returns:\n",
        "      A list of lists with satisfied clauses removed \n",
        "  '''\n",
        "\ttemp = []\n",
        "\tfor i in clauses:\n",
        "\t\ty = []\n",
        "\t\tfor l in i:\n",
        "\t\t\tif len(l) == 2:\n",
        "\t\t\t\tx = l[1]\n",
        "\n",
        "\t\t\t\tif (x in model.keys()) and (not model[x]):\n",
        "\t\t\t\t\ttemp.append(i)\n",
        "\t\t\t\t\tbreak\n",
        "\t\t\t\telif (x in model.keys()) and (model[x]):\n",
        "\t\t\t\t\ty.append(l)\n",
        "\n",
        "\t\t\telse:\n",
        "\t\t\t\tx = l\n",
        "\n",
        "\t\t\t\tif x in model.keys() and model[x]:\n",
        "\t\t\t\t\ttemp.append(i)\n",
        "\t\t\t\t\tbreak\n",
        "\t\t\t\telif x in model.keys() and not model[x]:\n",
        "\t\t\t\t\ty.append(l)\n",
        "\n",
        "\t\tfor x in y:\n",
        "\t\t\ti.remove(x)\n",
        "\n",
        "\tfor x in temp:\n",
        "\t\tclauses.remove(x)\n",
        "\n",
        "\treturn clauses"
      ],
      "execution_count": 0,
      "outputs": []
    },
    {
      "cell_type": "code",
      "metadata": {
        "id": "MF7ZYiXRq3Tm",
        "colab_type": "code",
        "colab": {}
      },
      "source": [
        "def check_unit_clauses(clauses, model):\n",
        "  '''\n",
        "    Checks for the unit clauses in the list of clauses\n",
        "\n",
        "    Parameters:\n",
        "      clauses - list of lists\n",
        "      model - a dictionary \n",
        "    Returns:\n",
        "      A dictionary with updated valuations of the unit clauses \n",
        "  '''\n",
        "\tclauses = model_test(clauses, model)\n",
        "\tx = {i[0][-1]:(True if len(i[0]) == 1 else False) for i in clauses if len(i) == 1}\n",
        "\n",
        "\treturn x"
      ],
      "execution_count": 0,
      "outputs": []
    },
    {
      "cell_type": "code",
      "metadata": {
        "id": "38hnrQRCrdFK",
        "colab_type": "code",
        "colab": {}
      },
      "source": [
        "def check_pure_symbols(symbols, clauses, model):\n",
        "  '''\n",
        "    Checks for the pure symbols in the list of clauses \n",
        "\n",
        "    Parameters:\n",
        "      symbols - list of characters, all the literals used in the cnf \n",
        "      clauses - list of lists\n",
        "      model - a dictionary \n",
        "\n",
        "    Returns:\n",
        "      A dictionary with the updated valuations of the pure symbols\n",
        "  '''\n",
        "\ttemp = {}\n",
        "\tfor i in symbols:\n",
        "\t\tlit1 = '!'+i\n",
        "\t\tlit2 = i\n",
        "\t\tfor clause in clauses:\n",
        "\t\t\tif not i in temp.keys():\n",
        "\t\t\t\tif lit1 in clause:\n",
        "\t\t\t\t\ttemp.update({i:False})\n",
        "\t\t\t\telif lit2 in clause:\n",
        "\t\t\t\t\ttemp.update({i:True})\n",
        "\n",
        "\t\t\telse:\n",
        "\t\t\t\tif (lit1 in clause and temp[i]) or (lit2 in clause and not temp[i]):\n",
        "\t\t\t\t\tdel temp[i]\n",
        "\t\t\t\t\tbreak\n",
        "\n",
        "\treturn temp\n"
      ],
      "execution_count": 0,
      "outputs": []
    },
    {
      "cell_type": "code",
      "metadata": {
        "id": "0H8xWNg4vPK6",
        "colab_type": "code",
        "colab": {}
      },
      "source": [
        "def dpll(clauses, symbols, model):\n",
        "  '''\n",
        "    Main dpll algorithm \n",
        "\n",
        "    Parameters:\n",
        "      symbols - list \n",
        "      clauses - list of lists\n",
        "      model - a dictionary \n",
        "\n",
        "    Returns:\n",
        "      A bool value True if the cnf is satisfiable else False\n",
        "  '''\n",
        "  # print(clauses)\n",
        "  # print(symbols)\n",
        "  # print(model)\n",
        "  clauses = model_test(clauses, model)\n",
        "  if len(clauses) == 0:\n",
        "    return True\n",
        "  num_f_clauses = len([clause for clause in clauses if len(clause) == 0])\n",
        "\t\n",
        "  if num_f_clauses > 0:\n",
        "    return False\n",
        "\n",
        "  pure_symbols = check_pure_symbols(symbols, clauses, model)\n",
        "\n",
        "  if len(pure_symbols) > 0:\n",
        "    for i in pure_symbols:\n",
        "      model.update({i:pure_symbols[i]})\n",
        "    symbols = [i for i in symbols if not i in pure_symbols.keys()]\n",
        "\n",
        "    return dpll(clauses, symbols, model)\n",
        "\n",
        "  unit_clauses = check_unit_clauses(clauses, model)\n",
        "\n",
        "  if len(unit_clauses) > 0:\n",
        "    for i in unit_clauses:\n",
        "      model.update({i:unit_clauses[i]})\n",
        "    symbols = [i for i in symbols if not i in unit_clauses.keys()]\n",
        "\n",
        "    return dpll(clauses, symbols, model)\n",
        "\n",
        "  if len(symbols) == 0:\n",
        "    return True \n",
        "  temp = symbols[0]\n",
        "  remaining = symbols\n",
        "  remaining.remove(temp)\n",
        "  # remaining = symbols.remove(temp)\n",
        "  # print(temp)\n",
        "  # print(remaining)\n",
        "  if model is None:\n",
        "    model = {}\n",
        "  # print(model)\n",
        "  if dpll(clauses, remaining, dict(model,temp=True)):\n",
        "    return True\n",
        "  else:\n",
        "    if dpll(clauses, remaining, dict(model, temp=False)):\n",
        "      return True\n",
        "    else:\n",
        "      return False\n",
        "  # model.update({temp:True})\n",
        "  # print(model)\n",
        "  \n",
        "  # return dpll(clauses, remaining, dict(model,temp=True)) or dpll(clauses, remaining, dict(model,temp=False))"
      ],
      "execution_count": 0,
      "outputs": []
    },
    {
      "cell_type": "code",
      "metadata": {
        "id": "M92F0y8pxZBp",
        "colab_type": "code",
        "colab": {
          "base_uri": "https://localhost:8080/",
          "height": 34
        },
        "outputId": "f945b714-a79b-403e-a980-467873b8c0b5"
      },
      "source": [
        "clauses = [['p', '!r'], ['!p', 'r']]\n",
        "model = {}\n",
        "symbols = ['p', 'r']\n",
        "\n",
        "print(is_satisfiable(clauses))"
      ],
      "execution_count": 15,
      "outputs": [
        {
          "output_type": "stream",
          "text": [
            "True\n"
          ],
          "name": "stdout"
        }
      ]
    }
  ]
}