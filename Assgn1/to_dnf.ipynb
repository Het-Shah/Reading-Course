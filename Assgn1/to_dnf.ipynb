{
  "nbformat": 4,
  "nbformat_minor": 0,
  "metadata": {
    "colab": {
      "name": "to_dnf.ipynb",
      "version": "0.3.2",
      "provenance": []
    },
    "kernelspec": {
      "name": "python3",
      "display_name": "Python 3"
    }
  },
  "cells": [
    {
      "cell_type": "code",
      "metadata": {
        "id": "Q1B4WBFii1XE",
        "colab_type": "code",
        "colab": {}
      },
      "source": [
        "from sympy.logic.boolalg import to_dnf\n",
        "from sympy.abc import A, B, C"
      ],
      "execution_count": 0,
      "outputs": []
    },
    {
      "cell_type": "code",
      "metadata": {
        "id": "6lJNOAXsi8lZ",
        "colab_type": "code",
        "colab": {
          "base_uri": "https://localhost:8080/",
          "height": 34
        },
        "outputId": "ee944b73-4470-4e37-8241-2b4df982a086"
      },
      "source": [
        "print(to_dnf(B & (A | C)))"
      ],
      "execution_count": 2,
      "outputs": [
        {
          "output_type": "stream",
          "text": [
            "(A & B) | (B & C)\n"
          ],
          "name": "stdout"
        }
      ]
    }
  ]
}