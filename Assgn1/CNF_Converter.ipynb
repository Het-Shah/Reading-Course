{
  "nbformat": 4,
  "nbformat_minor": 0,
  "metadata": {
    "colab": {
      "name": "CNF_Converter.ipynb",
      "version": "0.3.2",
      "provenance": [],
      "collapsed_sections": []
    },
    "kernelspec": {
      "name": "python3",
      "display_name": "Python 3"
    }
  },
  "cells": [
    {
      "cell_type": "code",
      "metadata": {
        "id": "fokF3H7KuXzN",
        "colab_type": "code",
        "colab": {}
      },
      "source": [
        "import sys"
      ],
      "execution_count": 0,
      "outputs": []
    },
    {
      "cell_type": "code",
      "metadata": {
        "id": "pXJDbi3MuYoE",
        "colab_type": "code",
        "colab": {}
      },
      "source": [
        "def reduce_Op(formula) :\n",
        "    if (isinstance(formula, str)) :\n",
        "        return formula\n",
        "    op = formula[0]\n",
        "    temp = []\n",
        "    p = []\n",
        "    for i, x in enumerate(formula) :\n",
        "        if (i > 0) :\n",
        "            if (isinstance(x, str)) :\n",
        "                temp.append(x)\n",
        "            elif (isinstance(x, list)) :\n",
        "                p.append(reduce_Op(x))\n",
        "    newFormula = temp\n",
        "    for x in p :\n",
        "        if (isinstance(x, list) and x[0] == op) :\n",
        "            for i,clause in enumerate(x) :\n",
        "                if (i > 0) :\n",
        "                    newFormula.append(clause)\n",
        "        else :\n",
        "            newFormula.append(x)\n",
        "    newFormula.insert(0, op)\n",
        "    return newFormula"
      ],
      "execution_count": 0,
      "outputs": []
    },
    {
      "cell_type": "code",
      "metadata": {
        "id": "BWuM-0jj0GKX",
        "colab_type": "code",
        "colab": {}
      },
      "source": [
        "def rem_Duplicates(formula) :\n",
        "    if (isinstance(formula, str) or (isinstance(formula, list) and formula[0] == \"not\" and isinstance(formula[1], str))) :\n",
        "        return formula    \n",
        "    for i, checkItem in enumerate(formula) :\n",
        "        if (i > 0) :\n",
        "            for j, x in reversed(list(enumerate(formula))) :\n",
        "                if (j > i) :\n",
        "                    if (isinstance(x, list)) :\n",
        "                        newItem = rem_Duplicates(x)\n",
        "                        formula.insert(j, newItem)\n",
        "                        formula.remove(x)\n",
        "                    if (checkItem == x) :\n",
        "                        formula.remove(x)\n",
        "    if (isinstance(formula, list) and formula[0] != \"not\" and len(formula) < 3) :\n",
        "        return formula[1]\n",
        "    return formula"
      ],
      "execution_count": 0,
      "outputs": []
    },
    {
      "cell_type": "code",
      "metadata": {
        "id": "FQNAnoWW0ag3",
        "colab_type": "code",
        "colab": {}
      },
      "source": [
        "def sort(formula) :\n",
        "    if (isinstance(formula, str)) :\n",
        "        return formula\n",
        "    op = formula[0]\n",
        "    if (op == \"implies\") :\n",
        "        return formula\n",
        "    temp = []\n",
        "    p = []\n",
        "    for i, x in enumerate(formula) :\n",
        "        if (i > 0) :\n",
        "            if (isinstance(x, str)) :\n",
        "                temp.append(x)\n",
        "            elif (isinstance(x, list)) :\n",
        "                p.append(sort(x))\n",
        "    if (len(temp) > 0) :\n",
        "        temp.sort()\n",
        "    if (len(p) > 0) :\n",
        "        p = sorted(p, key=lambda proposition: proposition[0], reverse=True)\n",
        "    newFormula = temp + p\n",
        "    newFormula.insert(0, op)\n",
        "    return newFormula"
      ],
      "execution_count": 0,
      "outputs": []
    },
    {
      "cell_type": "code",
      "metadata": {
        "id": "TCKpC6VzspyZ",
        "colab_type": "code",
        "colab": {}
      },
      "source": [
        "def convert(formula) :\n",
        "    if (isinstance(formula, str)):\n",
        "        return formula\n",
        "    elif(isinstance(formula,list)) :\n",
        "        if (formula[0] == \"implies\") :\n",
        "            return convert([\"or\", convert([\"not\",convert(formula[1])]), convert(formula[2])])\n",
        "        elif (formula[0] == \"iff\") :\n",
        "            return convert([\"and\", convert([\"or\", convert([\"not\", formula[1]]), formula[2]]), convert([\"or\", formula[1], convert([\"not\", formula[2]])])])\n",
        "        elif (formula[0] == \"not\") :\n",
        "            if (isinstance(formula[1], str)) :\n",
        "                return formula\n",
        "            elif (isinstance(formula[1], list) and (formula[1])[0] == \"not\") :\n",
        "                return convert((formula[1])[1])\n",
        "            elif (isinstance(formula[1], list) and (formula[1])[0] == \"and\") :\n",
        "                disjuncts = []\n",
        "                for i, x in enumerate(formula[1]) :\n",
        "                    if (i > 0) :\n",
        "                        disjuncts.append(convert([\"not\", x]))\n",
        "                disjuncts.insert(0, \"or\")\n",
        "                return convert(disjuncts)\n",
        "            elif (isinstance(formula[1], list) and (formula[1])[0] == \"or\") :\n",
        "                conjuncts = []\n",
        "                for i, x in enumerate(formula[1]) :\n",
        "                    if (i > 0) :\n",
        "                        conjuncts.append(convert([\"not\",]))\n",
        "                conjuncts.insert(0, \"and\")\n",
        "                return convert(conjuncts)\n",
        "            elif (isinstance(formula[1], list) and ((formula[1])[0] == \"implies\")) :\n",
        "                return convert([\"and\", convert((formula[1])[1]), [\"not\", convert((formula[1][2]))]])\n",
        "            elif (isinstance(formula[1], list) and (formula[1])[0] == \"iff\") :\n",
        "                return convert([\"not\", convert(formula[1])])\n",
        "        elif (formula[0] == \"or\") :\n",
        "            formula = sort(formula)\n",
        "            formula = rem_Duplicates(formula)\n",
        "            formula = reduce_Op(formula)\n",
        "            formula = sort(formula)\n",
        "            if (len(formula) == 1) :\n",
        "                return formula\n",
        "            if ((isinstance(formula[-1], list) and (formula[-1])[0] == \"and\")) :\n",
        "                conjuncts = []\n",
        "                for i, x in enumerate(formula[-1]) :\n",
        "                    if (i > 0) :\n",
        "                        conjuncts.append([\"or\", formula[-2], x])\n",
        "                conjuncts.insert(0, \"and\")\n",
        "                if (len(formula) < 4) :\n",
        "                    return convert(conjuncts)\n",
        "                else :\n",
        "                    formula.remove(formula[-1])\n",
        "                    formula.remove(formula[-1])\n",
        "                formula.append(conjuncts)\n",
        "                return convert(formula)\n",
        "            elif ((isinstance(formula[1], str) and isinstance(formula[2], str)) or (isinstance(formula[1], str) and isinstance(formula[2], list) and (formula[2])[0] == \"not\" and isinstance((formula[2])[1], str)) or (isinstance(formula[2], str) and isinstance(formula[1], list) and (formula[1])[0] == \"not\" and isinstance((formula[1])[1], str))) :\n",
        "                formula.append([\"or\", formula[1], formula[2]])\n",
        "                formula.remove(formula[1])\n",
        "                formula.remove(formula[1])\n",
        "                \n",
        "                formula = reduce_Op(formula)\n",
        "                formula = sort(formula)\n",
        "                return formula\n",
        "            elif (isinstance(formula[1], list) and (formula[1])[0] == \"not\" and isinstance((formula[1])[1], str) and isinstance(formula[2], list) and (formula[2])[0] == \"not\" and isinstance((formula[2])[1], str)) :\n",
        "                return formula\n",
        "            else :\n",
        "                disjuncts = []\n",
        "                for i, x in enumerate(formula) :\n",
        "                    if (i > 0) :\n",
        "                        disjuncts.append(convert(x))\n",
        "                disjuncts.insert(0, \"or\")\n",
        "                return convert(disjuncts)\n",
        "            \n",
        "        elif (formula[0] == \"and\") :\n",
        "            formula = sort(formula)\n",
        "            formula = rem_Duplicates(formula)\n",
        "            formula = reduce_Op(formula)\n",
        "            formula = sort(formula)\n",
        "            if (len(formula) == 1) :\n",
        "                return formula\n",
        "            disjuncts = []\n",
        "            for i, x in enumerate(formula) :\n",
        "                if (i > 0) :\n",
        "                    disjuncts.append(convert(x))\n",
        "            disjuncts.insert(0, \"and\")\n",
        "            \n",
        "            disjuncts = reduce_Op(disjuncts)\n",
        "            return disjuncts        "
      ],
      "execution_count": 0,
      "outputs": []
    },
    {
      "cell_type": "code",
      "metadata": {
        "id": "tusJM8410nvI",
        "colab_type": "code",
        "colab": {
          "base_uri": "https://localhost:8080/",
          "height": 34
        },
        "outputId": "a5c5055c-5873-4a2f-8356-d94c8de03332"
      },
      "source": [
        "convert([\"and\", \"A\", [\"or\", \"C\", \"D\"], [\"or\", \"D\", \"C\"]])"
      ],
      "execution_count": 12,
      "outputs": [
        {
          "output_type": "execute_result",
          "data": {
            "text/plain": [
              "['and', 'A', ['or', 'C', 'D']]"
            ]
          },
          "metadata": {
            "tags": []
          },
          "execution_count": 12
        }
      ]
    }
  ]
}