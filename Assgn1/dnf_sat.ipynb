{
  "nbformat": 4,
  "nbformat_minor": 0,
  "metadata": {
    "colab": {
      "name": "dnf_sat.ipynb",
      "version": "0.3.2",
      "provenance": [],
      "collapsed_sections": []
    },
    "kernelspec": {
      "name": "python3",
      "display_name": "Python 3"
    }
  },
  "cells": [
    {
      "cell_type": "code",
      "metadata": {
        "id": "hc13tsEJxXw4",
        "colab_type": "code",
        "colab": {}
      },
      "source": [
        "def is_satisfiable(dnf_formula):\n",
        "  '''\n",
        "    Driver Function \n",
        "\n",
        "    Parameters: \n",
        "      dnf_formula - list of lists, a formula in dnf \n",
        "    Returns: \n",
        "      A boolean value True if the entered dnf formula is satisfiable else False\n",
        "  '''\n",
        "  model = {}\n",
        "\n",
        "  return dnf_sat(dnf_formula, model)"
      ],
      "execution_count": 0,
      "outputs": []
    },
    {
      "cell_type": "code",
      "metadata": {
        "id": "uz1aGr1zx8Ap",
        "colab_type": "code",
        "colab": {}
      },
      "source": [
        "def dnf_sat(dnf_formula, model):\n",
        "  '''\n",
        "    Main algorithm for satisfiablity check \n",
        "\n",
        "    Parameters: \n",
        "      dnf_formula - list of lists \n",
        "      model - a dictionary, if the model is partial \n",
        "    Returns:\n",
        "      A boolean value True if the entered dnf formula is satisfiable else False\n",
        "  '''\n",
        "  for i in dnf_formula: \n",
        "    is_clause_sat = True\n",
        "    if len(i) == 1:\n",
        "      model.update({i[0].strip('!'):True})\n",
        "    for lit in i:\n",
        "      if len(lit)==2:\n",
        "        l = lit[1]\n",
        "        if l in model.keys() and model[l]:\n",
        "          is_clause_sat = False\n",
        "          break\n",
        "        else:\n",
        "          model.update({l:False})\n",
        "      else:\n",
        "        if lit in model.keys() and not model[lit]:\n",
        "          is_clause_sat = False \n",
        "          break \n",
        "        else:\n",
        "          model.update({lit:True})\n",
        "    if is_clause_sat == True: \n",
        "      return True\n",
        "  return False "
      ],
      "execution_count": 0,
      "outputs": []
    },
    {
      "cell_type": "code",
      "metadata": {
        "id": "v4qE80psyHuF",
        "colab_type": "code",
        "colab": {
          "base_uri": "https://localhost:8080/",
          "height": 34
        },
        "outputId": "56e0bd94-7a98-4b20-ad4a-8d3d5c307060"
      },
      "source": [
        "dnf = [['p','!p'], ['r', 's', '!p']]\n",
        "is_satisfiable(dnf)"
      ],
      "execution_count": 28,
      "outputs": [
        {
          "output_type": "execute_result",
          "data": {
            "text/plain": [
              "False"
            ]
          },
          "metadata": {
            "tags": []
          },
          "execution_count": 28
        }
      ]
    }
  ]
}